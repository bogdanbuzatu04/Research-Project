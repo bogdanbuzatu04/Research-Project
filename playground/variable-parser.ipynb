{
 "cells": [
  {
   "metadata": {
    "ExecuteTime": {
     "end_time": "2025-06-12T01:01:57.388692Z",
     "start_time": "2025-06-12T01:01:57.268047Z"
    }
   },
   "cell_type": "code",
   "source": "from detection.identifier_language_detection import determine_language_in_variable_name\n",
   "id": "f43c6d7b00513127",
   "outputs": [],
   "execution_count": 1
  },
  {
   "metadata": {
    "ExecuteTime": {
     "end_time": "2025-06-11T09:53:53.800077Z",
     "start_time": "2025-06-11T09:53:53.796907Z"
    }
   },
   "cell_type": "code",
   "source": "print(determine_language_in_variable_name(0,\"isPredictable\"))",
   "id": "1d538718f2dc1b49",
   "outputs": [
    {
     "name": "stdout",
     "output_type": "stream",
     "text": [
      "(('ENGLISH', 'en', 93, 1979.0), ('Unknown', 'un', 0, 0.0), ('Unknown', 'un', 0, 0.0))\n",
      "[(0, 'en'), (1, 'en'), (2, 'en'), (3, 'en'), (4, 'en'), (5, 'en'), (6, 'en'), (7, 'en'), (8, 'en'), (9, 'en'), (10, 'en'), (11, 'en'), (12, 'en')]\n"
     ]
    }
   ],
   "execution_count": 2
  },
  {
   "metadata": {
    "ExecuteTime": {
     "end_time": "2025-06-11T09:35:31.216230Z",
     "start_time": "2025-06-11T09:35:31.105693Z"
    }
   },
   "cell_type": "code",
   "source": "print(determine_language_in_variable_name(\"is-predictable\"))",
   "id": "7d48ecd54682bf32",
   "outputs": [
    {
     "ename": "TypeError",
     "evalue": "determine_language_in_variable_name() missing 1 required positional argument: 'variable_name'",
     "output_type": "error",
     "traceback": [
      "\u001B[0;31m---------------------------------------------------------------------------\u001B[0m",
      "\u001B[0;31mTypeError\u001B[0m                                 Traceback (most recent call last)",
      "Cell \u001B[0;32mIn[3], line 1\u001B[0m\n\u001B[0;32m----> 1\u001B[0m \u001B[38;5;28mprint\u001B[39m(\u001B[43mdetermine_language_in_variable_name\u001B[49m\u001B[43m(\u001B[49m\u001B[38;5;124;43m\"\u001B[39;49m\u001B[38;5;124;43mis-predictable\u001B[39;49m\u001B[38;5;124;43m\"\u001B[39;49m\u001B[43m)\u001B[49m)\n",
      "\u001B[0;31mTypeError\u001B[0m: determine_language_in_variable_name() missing 1 required positional argument: 'variable_name'"
     ]
    }
   ],
   "execution_count": 3
  },
  {
   "metadata": {
    "ExecuteTime": {
     "end_time": "2025-06-08T02:04:11.615633Z",
     "start_time": "2025-06-08T02:04:11.612626Z"
    }
   },
   "cell_type": "code",
   "source": "print(determine_language_in_variable_name(\"numeroDeAlunos\"))",
   "id": "4ef7649427796847",
   "outputs": [
    {
     "name": "stdout",
     "output_type": "stream",
     "text": [
      "pt\n"
     ]
    }
   ],
   "execution_count": 6
  },
  {
   "metadata": {
    "ExecuteTime": {
     "end_time": "2025-06-11T09:54:05.208357Z",
     "start_time": "2025-06-11T09:54:05.205443Z"
    }
   },
   "cell_type": "code",
   "source": "print(determine_language_in_variable_name(0,\"总价\"))",
   "id": "bd4324008cb358cd",
   "outputs": [
    {
     "name": "stdout",
     "output_type": "stream",
     "text": [
      "[(0, '-1'), (1, '-1')]\n"
     ]
    }
   ],
   "execution_count": 3
  },
  {
   "metadata": {
    "ExecuteTime": {
     "end_time": "2025-06-11T09:36:18.056887Z",
     "start_time": "2025-06-11T09:36:18.054147Z"
    }
   },
   "cell_type": "code",
   "source": "print(determine_language_in_variable_name(0,\"συνολικές_ώρες\"))",
   "id": "859883eeae399966",
   "outputs": [
    {
     "name": "stdout",
     "output_type": "stream",
     "text": [
      "[(0, '-1'), (1, '-1'), (2, '-1'), (3, '-1'), (4, '-1'), (5, '-1'), (6, '-1'), (7, '-1'), (8, '-1'), (9, '-1'), (10, '-1'), (11, '-1'), (12, '-1'), (13, '-1')]\n"
     ]
    }
   ],
   "execution_count": 7
  },
  {
   "metadata": {
    "ExecuteTime": {
     "end_time": "2025-06-08T02:04:16.099626Z",
     "start_time": "2025-06-08T02:04:16.096523Z"
    }
   },
   "cell_type": "code",
   "source": "print(determine_language_in_variable_name(\"אינדקסנוכחי\t\"))",
   "id": "3cdcd5491cf47e63",
   "outputs": [
    {
     "name": "stdout",
     "output_type": "stream",
     "text": [
      "iw\n"
     ]
    }
   ],
   "execution_count": 9
  },
  {
   "metadata": {
    "ExecuteTime": {
     "end_time": "2025-06-11T09:54:07.820351Z",
     "start_time": "2025-06-11T09:54:07.817307Z"
    }
   },
   "cell_type": "code",
   "source": "print(determine_language_in_variable_name(0, \"nomUtilisateur\"))\n",
   "id": "de46203da7b35dd6",
   "outputs": [
    {
     "name": "stdout",
     "output_type": "stream",
     "text": [
      "(('FRENCH', 'fr', 94, 1280.0), ('Unknown', 'un', 0, 0.0), ('Unknown', 'un', 0, 0.0))\n",
      "[(0, 'fr'), (1, 'fr'), (2, 'fr'), (3, 'fr'), (4, 'fr'), (5, 'fr'), (6, 'fr'), (7, 'fr'), (8, 'fr'), (9, 'fr'), (10, 'fr'), (11, 'fr'), (12, 'fr'), (13, 'fr')]\n"
     ]
    }
   ],
   "execution_count": 4
  },
  {
   "metadata": {
    "ExecuteTime": {
     "end_time": "2025-06-11T09:54:20.349325Z",
     "start_time": "2025-06-11T09:54:20.346426Z"
    }
   },
   "cell_type": "code",
   "source": "print(determine_language_in_variable_name(0,\"numeDeUtilizator\"))\n",
   "id": "5c249f77ae9115c6",
   "outputs": [
    {
     "name": "stdout",
     "output_type": "stream",
     "text": [
      "(('ROMANIAN', 'ro', 95, 1185.0), ('Unknown', 'un', 0, 0.0), ('Unknown', 'un', 0, 0.0))\n",
      "[(0, 'ro'), (1, 'ro'), (2, 'ro'), (3, 'ro'), (4, 'ro'), (5, 'ro'), (6, 'ro'), (7, 'ro'), (8, 'ro'), (9, 'ro'), (10, 'ro'), (11, 'ro'), (12, 'ro'), (13, 'ro'), (14, 'ro'), (15, 'ro')]\n"
     ]
    }
   ],
   "execution_count": 6
  },
  {
   "metadata": {
    "ExecuteTime": {
     "end_time": "2025-06-11T09:54:12.221601Z",
     "start_time": "2025-06-11T09:54:12.218774Z"
    }
   },
   "cell_type": "code",
   "source": "print(determine_language_in_variable_name(0, \"prefixPredicate\"))",
   "id": "4221cc0923825453",
   "outputs": [
    {
     "name": "stdout",
     "output_type": "stream",
     "text": [
      "(('SERBIAN', 'sr', 94, 301.0), ('Unknown', 'un', 0, 0.0), ('Unknown', 'un', 0, 0.0))\n",
      "[(0, '-1'), (1, '-1'), (2, '-1'), (3, '-1'), (4, '-1'), (5, '-1'), (6, '-1'), (7, '-1'), (8, '-1'), (9, '-1'), (10, '-1'), (11, '-1'), (12, '-1'), (13, '-1'), (14, '-1')]\n"
     ]
    }
   ],
   "execution_count": 5
  }
 ],
 "metadata": {
  "kernelspec": {
   "display_name": "Python 3",
   "language": "python",
   "name": "python3"
  },
  "language_info": {
   "codemirror_mode": {
    "name": "ipython",
    "version": 2
   },
   "file_extension": ".py",
   "mimetype": "text/x-python",
   "name": "python",
   "nbconvert_exporter": "python",
   "pygments_lexer": "ipython2",
   "version": "2.7.6"
  }
 },
 "nbformat": 4,
 "nbformat_minor": 5
}
