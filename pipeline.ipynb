{
 "cells": [
  {
   "cell_type": "code",
   "id": "initial_id",
   "metadata": {
    "collapsed": true,
    "ExecuteTime": {
     "end_time": "2025-06-21T23:17:30.540684Z",
     "start_time": "2025-06-21T23:17:29.788279Z"
    }
   },
   "source": "from datasets import load_dataset",
   "outputs": [],
   "execution_count": 1
  },
  {
   "metadata": {
    "ExecuteTime": {
     "end_time": "2025-06-21T23:46:39.979654Z",
     "start_time": "2025-06-21T23:46:29.692130Z"
    }
   },
   "cell_type": "code",
   "source": [
    "stack_v1_name = 'stackv1'\n",
    "stack_v2_name = 'stackv2'\n",
    "language = 'Java'\n",
    "\n",
    "ds = load_dataset(\n",
    "    \"AISE-TUDelft/the-heap\",\n",
    "    f\"{language}\",\n",
    "    split=\"train\",\n",
    "    num_proc=16\n",
    ")\n",
    "\n",
    "ds = ds.filter(lambda x: not x[f'exact_duplicates_{stack_v2_name}'] and not x[f'near_duplicates_{stack_v2_name}'])\n",
    "\n",
    "ds = ds.filter(lambda x: not x[f'exact_duplicates_{stack_v1_name}'] and not x[f'near_duplicates_{stack_v1_name}'])"
   ],
   "id": "6ac8ae731379e1f5",
   "outputs": [
    {
     "data": {
      "text/plain": [
       "Resolving data files:   0%|          | 0/64 [00:00<?, ?it/s]"
      ],
      "application/vnd.jupyter.widget-view+json": {
       "version_major": 2,
       "version_minor": 0,
       "model_id": "96c407db279d4161ae77b22e73708114"
      }
     },
     "metadata": {},
     "output_type": "display_data"
    },
    {
     "data": {
      "text/plain": [
       "Loading dataset shards:   0%|          | 0/70 [00:00<?, ?it/s]"
      ],
      "application/vnd.jupyter.widget-view+json": {
       "version_major": 2,
       "version_minor": 0,
       "model_id": "24e9bf4fe6ee4074ac840656988f0c1a"
      }
     },
     "metadata": {},
     "output_type": "display_data"
    }
   ],
   "execution_count": 2
  },
  {
   "metadata": {
    "ExecuteTime": {
     "end_time": "2025-06-21T23:46:47.726802Z",
     "start_time": "2025-06-21T23:46:47.705672Z"
    }
   },
   "cell_type": "code",
   "source": "new_ds = ds.select(range(3343312))",
   "id": "ca2dfe8d08c3024f",
   "outputs": [],
   "execution_count": 3
  },
  {
   "metadata": {
    "ExecuteTime": {
     "end_time": "2025-06-21T23:46:49.864431Z",
     "start_time": "2025-06-21T23:46:49.704710Z"
    }
   },
   "cell_type": "code",
   "source": "from detection.annotate_code import annotate_code",
   "id": "129fb558a732997d",
   "outputs": [],
   "execution_count": 4
  },
  {
   "metadata": {
    "ExecuteTime": {
     "end_time": "2025-06-21T23:47:49.537930Z",
     "start_time": "2025-06-21T23:46:53.502382Z"
    }
   },
   "cell_type": "code",
   "source": [
    "new_ds = new_ds.map(\n",
    "    lambda x: {\"language_detected\": annotate_code(x[\"content\"])},\n",
    "    num_proc=16,\n",
    ")"
   ],
   "id": "f6ea351b4e32fd63",
   "outputs": [],
   "execution_count": 5
  },
  {
   "metadata": {
    "ExecuteTime": {
     "end_time": "2025-06-21T23:48:05.640933Z",
     "start_time": "2025-06-21T23:48:05.596978Z"
    }
   },
   "cell_type": "code",
   "source": "test_ds = new_ds.select(range(3343312))",
   "id": "3a0ebe82d6c6e03f",
   "outputs": [],
   "execution_count": 6
  },
  {
   "metadata": {
    "ExecuteTime": {
     "end_time": "2025-06-21T23:48:06.700693Z",
     "start_time": "2025-06-21T23:48:06.698208Z"
    }
   },
   "cell_type": "code",
   "source": "from detection.annotate_code import get_numerical_data_from_code",
   "id": "9104dfa4d4d69d7",
   "outputs": [],
   "execution_count": 7
  },
  {
   "metadata": {
    "ExecuteTime": {
     "end_time": "2025-06-21T23:48:07.788739Z",
     "start_time": "2025-06-21T23:48:07.786421Z"
    }
   },
   "cell_type": "code",
   "source": "from datasets import Features, Value, Sequence",
   "id": "ce80d522a454d091",
   "outputs": [],
   "execution_count": 8
  },
  {
   "metadata": {
    "ExecuteTime": {
     "end_time": "2025-06-21T23:48:08.804192Z",
     "start_time": "2025-06-21T23:48:08.801842Z"
    }
   },
   "cell_type": "code",
   "source": [
    "numeric_features = Features({\n",
    "    \"lang_identifiers\"     : Sequence(Value(\"string\")),\n",
    "    \"lang_max_identifiers\" : Sequence(Value(\"int64\")),\n",
    "    \"lang_freq_identifiers\": Sequence(Value(\"int64\")),\n",
    "    \"lang_comments\"        : Sequence(Value(\"string\")),\n",
    "    \"lang_max_comments\"    : Sequence(Value(\"int64\")),\n",
    "    \"lang_freq_comments\"   : Sequence(Value(\"int64\")),\n",
    "    \"lang_strings\"         : Sequence(Value(\"string\")),\n",
    "    \"lang_max_strings\"     : Sequence(Value(\"int64\")),\n",
    "    \"lang_freq_strings\"    : Sequence(Value(\"int64\")),\n",
    "})"
   ],
   "id": "ed464b9f9c3ff19b",
   "outputs": [],
   "execution_count": 9
  },
  {
   "metadata": {
    "ExecuteTime": {
     "end_time": "2025-06-21T23:48:10.177186Z",
     "start_time": "2025-06-21T23:48:10.174480Z"
    }
   },
   "cell_type": "code",
   "source": [
    "full_features = test_ds.features.copy()\n",
    "full_features.update(numeric_features)"
   ],
   "id": "7e38933490380cf4",
   "outputs": [],
   "execution_count": 10
  },
  {
   "metadata": {
    "ExecuteTime": {
     "end_time": "2025-06-21T23:48:10.968907Z",
     "start_time": "2025-06-21T23:48:10.966686Z"
    }
   },
   "cell_type": "code",
   "source": [
    "def add_numerical_fields(example):\n",
    "    out = get_numerical_data_from_code(\n",
    "        example[\"content\"],\n",
    "        example[\"language_detected\"]\n",
    "    )\n",
    "    return out"
   ],
   "id": "9b34d17f25a5c586",
   "outputs": [],
   "execution_count": 11
  },
  {
   "metadata": {
    "ExecuteTime": {
     "end_time": "2025-06-21T23:49:08.557679Z",
     "start_time": "2025-06-21T23:48:12.473930Z"
    }
   },
   "cell_type": "code",
   "source": "test_ds = test_ds.map(add_numerical_fields,  num_proc=16, features=full_features)",
   "id": "1ff059cf1774b56d",
   "outputs": [],
   "execution_count": 12
  },
  {
   "metadata": {
    "ExecuteTime": {
     "end_time": "2025-06-13T00:56:46.804290Z",
     "start_time": "2025-06-13T00:56:46.802288Z"
    }
   },
   "cell_type": "code",
   "source": "from pathlib import Path\n",
   "id": "3b13be753d4b78af",
   "outputs": [],
   "execution_count": 49
  },
  {
   "metadata": {
    "ExecuteTime": {
     "end_time": "2025-06-13T00:56:48.029367Z",
     "start_time": "2025-06-13T00:56:48.026135Z"
    }
   },
   "cell_type": "code",
   "source": "external_root = Path(\"/Volumes\") / \"Personal Backup\"",
   "id": "39c7e941cd0d4d72",
   "outputs": [],
   "execution_count": 50
  },
  {
   "metadata": {
    "ExecuteTime": {
     "end_time": "2025-06-13T00:56:49.366518Z",
     "start_time": "2025-06-13T00:56:49.362812Z"
    }
   },
   "cell_type": "code",
   "source": "external_root",
   "id": "ceb37c1193a3dfc8",
   "outputs": [
    {
     "data": {
      "text/plain": [
       "PosixPath('/Volumes/Bogdan Personal Backup')"
      ]
     },
     "execution_count": 51,
     "metadata": {},
     "output_type": "execute_result"
    }
   ],
   "execution_count": 51
  },
  {
   "metadata": {
    "ExecuteTime": {
     "end_time": "2025-06-11T12:37:08.557248Z",
     "start_time": "2025-06-11T12:37:08.554560Z"
    }
   },
   "cell_type": "code",
   "source": "save_path     = external_root / f\"heap_{language}_annotated\"",
   "id": "138f4856113fa058",
   "outputs": [],
   "execution_count": 26
  },
  {
   "metadata": {
    "ExecuteTime": {
     "end_time": "2025-06-11T12:43:24.064205Z",
     "start_time": "2025-06-11T12:38:12.601247Z"
    }
   },
   "cell_type": "code",
   "source": "test_ds.save_to_disk(save_path)",
   "id": "1854522a8db34757",
   "outputs": [
    {
     "data": {
      "text/plain": [
       "Saving the dataset (0/243 shards):   0%|          | 0/3343312 [00:00<?, ? examples/s]"
      ],
      "application/vnd.jupyter.widget-view+json": {
       "version_major": 2,
       "version_minor": 0,
       "model_id": "2cb40eae8f784ca681fdd7c09ef6ec2b"
      }
     },
     "metadata": {},
     "output_type": "display_data"
    }
   ],
   "execution_count": 28
  },
  {
   "metadata": {
    "ExecuteTime": {
     "end_time": "2025-06-21T23:49:28.603237Z",
     "start_time": "2025-06-21T23:49:28.597686Z"
    }
   },
   "cell_type": "code",
   "source": "from analysis.lang_stats import compute_language_stats, compute_single_language_stats, compute_multi_language_stats, compute_single_language_in_files, get_stats,get_file_stats",
   "id": "bb383e9c1503ed4b",
   "outputs": [],
   "execution_count": 13
  },
  {
   "metadata": {
    "ExecuteTime": {
     "end_time": "2025-06-21T23:49:29.737745Z",
     "start_time": "2025-06-21T23:49:29.613822Z"
    }
   },
   "cell_type": "code",
   "source": [
    "partials = (\n",
    "    test_ds\n",
    "      .map(\n",
    "          compute_language_stats,\n",
    "          batched=True,\n",
    "          batch_size=None,       # whole shard per worker → 1 row\n",
    "          num_proc=16,  # can’t exceed split size\n",
    "          remove_columns=test_ds.column_names # keep RAM very low\n",
    "      )\n",
    "      .to_list()                 # bring the tiny per-shard dicts to driver\n",
    ")"
   ],
   "id": "c36db5b7891426d3",
   "outputs": [],
   "execution_count": 14
  },
  {
   "metadata": {
    "ExecuteTime": {
     "end_time": "2025-06-21T23:49:31.981010Z",
     "start_time": "2025-06-21T23:49:31.975559Z"
    }
   },
   "cell_type": "code",
   "source": "print(get_stats(partials)[\"comments\"] )\n",
   "id": "2e0552366783e62d",
   "outputs": [
    {
     "name": "stdout",
     "output_type": "stream",
     "text": [
      "{'languages': ['en', 'pt', 'zh', 'gl', 'de', 'fr', 'es', 'da', 'it', 'ja'], 'freq': [23602848, 798878, 789565, 277939, 215848, 209110, 200725, 171161, 145063, 132797], 'max_size': [1884220, 137960, 742173, 117202, 122307, 517352, 211735, 221410, 40593, 1881287], 'file_count': [2526777, 103371, 122138, 47503, 67221, 62436, 47787, 84464, 44448, 37857]}\n"
     ]
    }
   ],
   "execution_count": 15
  },
  {
   "metadata": {
    "ExecuteTime": {
     "end_time": "2025-06-21T23:49:40.306662Z",
     "start_time": "2025-06-21T23:49:40.301185Z"
    }
   },
   "cell_type": "code",
   "source": "print(get_stats(partials)[\"identifiers\"] )",
   "id": "887e20b1c6714c2c",
   "outputs": [
    {
     "name": "stdout",
     "output_type": "stream",
     "text": [
      "{'languages': ['en', 'es', 'it', 'fr', 'de', 'pt', 'nl', 'cs', 'sv', 'ca'], 'freq': [35246633, 175845, 159276, 152777, 92865, 84063, 51278, 36386, 34444, 33943], 'max_size': [493, 123, 188, 74, 134, 68, 83, 55, 80, 34], 'file_count': [3057990, 53426, 54901, 70130, 26180, 33051, 19350, 20391, 21379, 17211]}\n"
     ]
    }
   ],
   "execution_count": 16
  },
  {
   "metadata": {
    "ExecuteTime": {
     "end_time": "2025-06-21T23:49:42.051528Z",
     "start_time": "2025-06-21T23:49:42.046040Z"
    }
   },
   "cell_type": "code",
   "source": "print(get_stats(partials)[\"strings\"] )",
   "id": "741a5d02588b9f6a",
   "outputs": [
    {
     "name": "stdout",
     "output_type": "stream",
     "text": [
      "{'languages': ['en', 'zh', 'da', 'de', 'fr', 'es', 'pt', 'it', 'nl', 'la'], 'freq': [17879347, 249762, 236074, 225174, 187846, 139949, 138466, 136324, 131645, 128011], 'max_size': [606887, 5036, 606887, 70426, 65534, 29903, 47691, 36034, 606887, 65534], 'file_count': [1684818, 46202, 84491, 49549, 62485, 33791, 45700, 32977, 44203, 50207]}\n"
     ]
    }
   ],
   "execution_count": 17
  },
  {
   "metadata": {
    "ExecuteTime": {
     "end_time": "2025-06-21T23:49:45.326267Z",
     "start_time": "2025-06-21T23:49:45.319826Z"
    }
   },
   "cell_type": "code",
   "source": "print(get_stats(partials))",
   "id": "2e376cb368331919",
   "outputs": [
    {
     "name": "stdout",
     "output_type": "stream",
     "text": [
      "{'identifiers': {'languages': ['en', 'es', 'it', 'fr', 'de', 'pt', 'nl', 'cs', 'sv', 'ca'], 'freq': [35246633, 175845, 159276, 152777, 92865, 84063, 51278, 36386, 34444, 33943], 'max_size': [493, 123, 188, 74, 134, 68, 83, 55, 80, 34], 'file_count': [3057990, 53426, 54901, 70130, 26180, 33051, 19350, 20391, 21379, 17211]}, 'comments': {'languages': ['en', 'pt', 'zh', 'gl', 'de', 'fr', 'es', 'da', 'it', 'ja'], 'freq': [23602848, 798878, 789565, 277939, 215848, 209110, 200725, 171161, 145063, 132797], 'max_size': [1884220, 137960, 742173, 117202, 122307, 517352, 211735, 221410, 40593, 1881287], 'file_count': [2526777, 103371, 122138, 47503, 67221, 62436, 47787, 84464, 44448, 37857]}, 'strings': {'languages': ['en', 'zh', 'da', 'de', 'fr', 'es', 'pt', 'it', 'nl', 'la'], 'freq': [17879347, 249762, 236074, 225174, 187846, 139949, 138466, 136324, 131645, 128011], 'max_size': [606887, 5036, 606887, 70426, 65534, 29903, 47691, 36034, 606887, 65534], 'file_count': [1684818, 46202, 84491, 49549, 62485, 33791, 45700, 32977, 44203, 50207]}}\n"
     ]
    }
   ],
   "execution_count": 18
  },
  {
   "metadata": {
    "ExecuteTime": {
     "end_time": "2025-06-21T23:49:51.579737Z",
     "start_time": "2025-06-21T23:49:51.463725Z"
    }
   },
   "cell_type": "code",
   "source": [
    "single_partials = (\n",
    "    test_ds\n",
    "    .map(\n",
    "        compute_single_language_stats,\n",
    "        batched=True,\n",
    "        batch_size=None,  # whole shard per worker → 1 row\n",
    "        num_proc=16,  # can’t exceed split size\n",
    "        remove_columns=test_ds.column_names  # keep RAM very low\n",
    "    )\n",
    "    .to_list()  # bring the tiny per-shard dicts to driver\n",
    ")"
   ],
   "id": "1a6bca12a31f973d",
   "outputs": [],
   "execution_count": 19
  },
  {
   "metadata": {
    "ExecuteTime": {
     "end_time": "2025-06-21T23:49:52.979706Z",
     "start_time": "2025-06-21T23:49:52.973327Z"
    }
   },
   "cell_type": "code",
   "source": "print(get_stats(single_partials)[\"comments\"] )",
   "id": "2d29ea47e56a57d",
   "outputs": [
    {
     "name": "stdout",
     "output_type": "stream",
     "text": [
      "{'languages': ['en', 'zh', 'gl', 'fr', 'de', 'es', 'ja', 'pt', 'it', 'ru'], 'freq': [21769559, 702291, 258982, 141094, 139693, 135518, 115763, 100257, 94376, 79754], 'max_size': [647658, 9833, 610, 5450, 28553, 6934, 92094, 5278, 7022, 29439], 'file_count': [2432676, 104145, 36333, 28398, 25640, 25675, 29442, 37032, 16595, 13767]}\n"
     ]
    }
   ],
   "execution_count": 20
  },
  {
   "metadata": {
    "ExecuteTime": {
     "end_time": "2025-06-21T23:49:54.209201Z",
     "start_time": "2025-06-21T23:49:54.203795Z"
    }
   },
   "cell_type": "code",
   "source": "print(get_stats(single_partials)[\"identifiers\"] )",
   "id": "9f15e49a06381d79",
   "outputs": [
    {
     "name": "stdout",
     "output_type": "stream",
     "text": [
      "{'languages': ['en', 'es', 'it', 'fr', 'de', 'pt', 'nl', 'cs', 'sv', 'ca'], 'freq': [35246633, 175845, 159276, 152777, 92865, 84063, 51278, 36386, 34444, 33943], 'max_size': [493, 123, 188, 74, 134, 68, 83, 55, 80, 34], 'file_count': [3057990, 53426, 54901, 70130, 26180, 33051, 19350, 20391, 21379, 17211]}\n"
     ]
    }
   ],
   "execution_count": 21
  },
  {
   "metadata": {
    "ExecuteTime": {
     "end_time": "2025-06-21T23:49:55.802237Z",
     "start_time": "2025-06-21T23:49:55.797767Z"
    }
   },
   "cell_type": "code",
   "source": "print(get_stats(single_partials)[\"strings\"] )",
   "id": "b99593f9131a6692",
   "outputs": [
    {
     "name": "stdout",
     "output_type": "stream",
     "text": [
      "{'languages': ['en', 'zh', 'de', 'da', 'fr', 'pt', 'it', 'es', 'la', 'nl'], 'freq': [17711673, 248507, 214917, 202414, 177730, 131664, 130833, 125844, 116656, 99142], 'max_size': [65534, 5036, 2792, 635, 38349, 19330, 1085, 2951, 2229, 471], 'file_count': [1681189, 45881, 47566, 78073, 59504, 43735, 31577, 32413, 47541, 41139]}\n"
     ]
    }
   ],
   "execution_count": 22
  },
  {
   "metadata": {
    "ExecuteTime": {
     "end_time": "2025-06-21T23:49:57.186867Z",
     "start_time": "2025-06-21T23:49:57.182906Z"
    }
   },
   "cell_type": "code",
   "source": "print(get_stats(single_partials))",
   "id": "29bead16fb4105a0",
   "outputs": [
    {
     "name": "stdout",
     "output_type": "stream",
     "text": [
      "{'identifiers': {'languages': ['en', 'es', 'it', 'fr', 'de', 'pt', 'nl', 'cs', 'sv', 'ca'], 'freq': [35246633, 175845, 159276, 152777, 92865, 84063, 51278, 36386, 34444, 33943], 'max_size': [493, 123, 188, 74, 134, 68, 83, 55, 80, 34], 'file_count': [3057990, 53426, 54901, 70130, 26180, 33051, 19350, 20391, 21379, 17211]}, 'comments': {'languages': ['en', 'zh', 'gl', 'fr', 'de', 'es', 'ja', 'pt', 'it', 'ru'], 'freq': [21769559, 702291, 258982, 141094, 139693, 135518, 115763, 100257, 94376, 79754], 'max_size': [647658, 9833, 610, 5450, 28553, 6934, 92094, 5278, 7022, 29439], 'file_count': [2432676, 104145, 36333, 28398, 25640, 25675, 29442, 37032, 16595, 13767]}, 'strings': {'languages': ['en', 'zh', 'de', 'da', 'fr', 'pt', 'it', 'es', 'la', 'nl'], 'freq': [17711673, 248507, 214917, 202414, 177730, 131664, 130833, 125844, 116656, 99142], 'max_size': [65534, 5036, 2792, 635, 38349, 19330, 1085, 2951, 2229, 471], 'file_count': [1681189, 45881, 47566, 78073, 59504, 43735, 31577, 32413, 47541, 41139]}}\n"
     ]
    }
   ],
   "execution_count": 23
  },
  {
   "metadata": {
    "ExecuteTime": {
     "end_time": "2025-06-21T23:50:08.358610Z",
     "start_time": "2025-06-21T23:50:08.261241Z"
    }
   },
   "cell_type": "code",
   "source": [
    "file_partials = (\n",
    "    test_ds\n",
    "    .map(\n",
    "        compute_single_language_in_files,\n",
    "        batched=True,\n",
    "        batch_size=None,  # whole shard per worker → 1 row\n",
    "        num_proc=16,  # can’t exceed split size\n",
    "        remove_columns=test_ds.column_names  # keep RAM very low\n",
    "    )\n",
    "    .to_list()  # bring the tiny per-shard dicts to driver\n",
    ")"
   ],
   "id": "51985a9d298db47",
   "outputs": [],
   "execution_count": 24
  },
  {
   "metadata": {
    "ExecuteTime": {
     "end_time": "2025-06-21T23:50:14.321334Z",
     "start_time": "2025-06-21T23:50:14.318890Z"
    }
   },
   "cell_type": "code",
   "source": "print(get_file_stats(file_partials).most_common(15))\n",
   "id": "4b351659f29ba169",
   "outputs": [
    {
     "name": "stdout",
     "output_type": "stream",
     "text": [
      "[('en', 1907629), ('zh', 2000), ('es', 1355), ('pt', 1005), ('fr', 771), ('it', 454), ('de', 433), ('cs', 189), ('ja', 183), ('pl', 177), ('ru', 173), ('da', 170), ('ko', 150), ('nl', 143), ('tr', 114)]\n"
     ]
    }
   ],
   "execution_count": 25
  },
  {
   "metadata": {
    "ExecuteTime": {
     "end_time": "2025-06-21T23:52:43.379008Z",
     "start_time": "2025-06-21T23:52:43.375597Z"
    }
   },
   "cell_type": "code",
   "source": "from sampling.dataset_sampling import keep_files_with_comments, keep_single_language_dataset, is_language_present",
   "id": "dbe5406ce4d8595d",
   "outputs": [],
   "execution_count": 26
  },
  {
   "metadata": {
    "ExecuteTime": {
     "end_time": "2025-06-13T00:45:29.592494Z",
     "start_time": "2025-06-13T00:45:29.499176Z"
    }
   },
   "cell_type": "code",
   "source": [
    "ds_in_non_english = keep_single_language_dataset(test_ds,\n",
    "                                           num_proc=16,\n",
    "                                           non_english=True)"
   ],
   "id": "fe39fb4d61937920",
   "outputs": [],
   "execution_count": 28
  },
  {
   "metadata": {
    "ExecuteTime": {
     "end_time": "2025-06-13T00:45:29.816145Z",
     "start_time": "2025-06-13T00:45:29.599147Z"
    }
   },
   "cell_type": "code",
   "source": [
    "ds_in_english = keep_single_language_dataset(test_ds,\n",
    "                                           num_proc=16,\n",
    "                                           non_english=False)"
   ],
   "id": "e655a4df2eb4f00c",
   "outputs": [],
   "execution_count": 29
  },
  {
   "metadata": {
    "ExecuteTime": {
     "end_time": "2025-06-13T00:45:39.652101Z",
     "start_time": "2025-06-13T00:45:39.307487Z"
    }
   },
   "cell_type": "code",
   "source": "ds_in_non_english_with_comments = keep_files_with_comments(ds_in_non_english)",
   "id": "bf8a61068840ce2b",
   "outputs": [],
   "execution_count": 30
  },
  {
   "metadata": {
    "ExecuteTime": {
     "end_time": "2025-06-13T00:47:37.559204Z",
     "start_time": "2025-06-13T00:47:31.653954Z"
    }
   },
   "cell_type": "code",
   "source": "ds_in_english_with_comments = keep_files_with_comments(ds_in_english)",
   "id": "edea3b6ca5ad1397",
   "outputs": [],
   "execution_count": 33
  },
  {
   "metadata": {
    "ExecuteTime": {
     "end_time": "2025-06-13T00:52:04.266592Z",
     "start_time": "2025-06-13T00:52:04.264702Z"
    }
   },
   "cell_type": "code",
   "source": "import random",
   "id": "8717db1e086c90bd",
   "outputs": [],
   "execution_count": 35
  },
  {
   "metadata": {
    "ExecuteTime": {
     "end_time": "2025-06-13T00:52:22.401606Z",
     "start_time": "2025-06-13T00:52:22.399077Z"
    }
   },
   "cell_type": "code",
   "source": [
    "number_of_samples_non_english = 1000\n",
    "random.seed(45)\n",
    "indices_of_non_english = random.sample(\n",
    "    range(len(ds_in_non_english_with_comments)),\n",
    "    number_of_samples_non_english\n",
    ")\n",
    "samples_non_english = ds_in_non_english_with_comments.select(indices_of_non_english)\n",
    "save_path     = external_root / f\"heap_{language}_sampled_non_english\"\n",
    "samples_non_english.save_to_disk(save_path)\n"
   ],
   "id": "306c49dd0a63e05a",
   "outputs": [],
   "execution_count": 36
  },
  {
   "metadata": {
    "ExecuteTime": {
     "end_time": "2025-06-13T00:54:37.292679Z",
     "start_time": "2025-06-13T00:54:37.290697Z"
    }
   },
   "cell_type": "code",
   "source": [
    "number_of_samples_english = 2000\n",
    "indices_of_english = random.sample(range(len(ds_in_english_with_comments)), number_of_samples_english)\n",
    "samples_english = ds_in_english_with_comments.select(indices_of_english)\n",
    "save_path = external_root / f\"heap_{language}_sampled_english\"\n",
    "samples_english.save_to_disk(save_path)"
   ],
   "id": "41d994dc60544caf",
   "outputs": [],
   "execution_count": 43
  },
  {
   "metadata": {
    "ExecuteTime": {
     "end_time": "2025-06-14T08:56:06.613417Z",
     "start_time": "2025-06-14T08:56:06.406524Z"
    }
   },
   "cell_type": "code",
   "source": [
    "number_of_samples_non_english_fim = 1000\n",
    "random.seed(112)\n",
    "indices_of_non_english_fim = random.sample(\n",
    "    range(len(ds_in_non_english_with_comments)),\n",
    "    number_of_samples_non_english_fim\n",
    ")\n",
    "samples_non_english_fim = ds_in_non_english_with_comments.select(indices_of_non_english_fim)\n",
    "save_path     = external_root / f\"heap_{language}_sampled_non_english_FIM\"\n",
    "samples_non_english_fim.save_to_disk(save_path)"
   ],
   "id": "9e3e924a67829806",
   "outputs": [
    {
     "data": {
      "text/plain": [
       "Saving the dataset (0/1 shards):   0%|          | 0/1000 [00:00<?, ? examples/s]"
      ],
      "application/vnd.jupyter.widget-view+json": {
       "version_major": 2,
       "version_minor": 0,
       "model_id": "c597ce904872466c8e556fa7806a9137"
      }
     },
     "metadata": {},
     "output_type": "display_data"
    }
   ],
   "execution_count": 62
  },
  {
   "metadata": {
    "ExecuteTime": {
     "end_time": "2025-06-14T08:56:08.640617Z",
     "start_time": "2025-06-14T08:56:08.404850Z"
    }
   },
   "cell_type": "code",
   "source": [
    "number_of_samples_english_fim = 1000\n",
    "random.seed(112)\n",
    "indices_of_english_fim = random.sample(\n",
    "    range(len(ds_in_english_with_comments)),\n",
    "    number_of_samples_english_fim\n",
    ")\n",
    "samples_english_fim = ds_in_english_with_comments.select(indices_of_english_fim)\n",
    "save_path     = external_root / f\"heap_{language}_sampled_english_FIM\"\n",
    "samples_english_fim.save_to_disk(save_path)"
   ],
   "id": "6712ab7f161443d7",
   "outputs": [
    {
     "data": {
      "text/plain": [
       "Saving the dataset (0/1 shards):   0%|          | 0/1000 [00:00<?, ? examples/s]"
      ],
      "application/vnd.jupyter.widget-view+json": {
       "version_major": 2,
       "version_minor": 0,
       "model_id": "833435e5639345a6857b69ba7d675642"
      }
     },
     "metadata": {},
     "output_type": "display_data"
    }
   ],
   "execution_count": 63
  }
 ],
 "metadata": {
  "kernelspec": {
   "display_name": "Python 3",
   "language": "python",
   "name": "python3"
  },
  "language_info": {
   "codemirror_mode": {
    "name": "ipython",
    "version": 2
   },
   "file_extension": ".py",
   "mimetype": "text/x-python",
   "name": "python",
   "nbconvert_exporter": "python",
   "pygments_lexer": "ipython2",
   "version": "2.7.6"
  }
 },
 "nbformat": 4,
 "nbformat_minor": 5
}
